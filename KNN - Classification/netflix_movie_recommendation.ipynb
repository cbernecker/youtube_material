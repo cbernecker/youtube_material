{
 "cells": [
  {
   "cell_type": "code",
   "execution_count": null,
   "metadata": {},
   "outputs": [],
   "source": [
    "from sklearn.preprocessing import MultiLabelBinarizer, MinMaxScaler\n",
    "from sklearn.neighbors import NearestNeighbors\n",
    "import pandas as pd\n",
    "\n",
    "# Load the data\n",
    "df = pd.read_csv('../Data/imdb_top_1000.csv')\n",
    "\n",
    "# Keep only relevant columns and clean data\n",
    "df = df[['Series_Title', 'Genre', 'IMDB_Rating']]\n",
    "df['Genre'] = df['Genre'].apply(lambda x: x.split(', '))\n",
    "\n",
    "# MultiLabelBinarizer for genres\n",
    "mlb = MultiLabelBinarizer()\n",
    "genre_encoded = pd.DataFrame(mlb.fit_transform(df['Genre']), columns=mlb.classes_, index=df.index)\n",
    "\n",
    "# Combine the one-hot-encoded genres with the original DataFrame\n",
    "df_transformed = pd.concat([df[['Series_Title', 'IMDB_Rating']], genre_encoded], axis=1)\n",
    "\n",
    "# Scale all features uniformly\n",
    "scaler = MinMaxScaler()\n",
    "df_scaled = pd.DataFrame(\n",
    "    scaler.fit_transform(df_transformed.drop(columns=['Series_Title'])),\n",
    "    columns=df_transformed.drop(columns=['Series_Title']).columns,\n",
    "    index=df.index\n",
    ")\n",
    "\n",
    "# Fit the NearestNeighbors model\n",
    "knn = NearestNeighbors(n_neighbors=5, metric='euclidean')\n",
    "knn.fit(df_scaled)\n",
    "\n",
    "# Search for similar movies\n",
    "movie = 'The Big Lebowski'\n",
    "movie_index = df[df['Series_Title'] == movie].index[0]\n",
    "movie_vector = pd.DataFrame([df_scaled.iloc[movie_index]], columns=df_scaled.columns)\n",
    "#print(film_vector)\n",
    "\n",
    "# Find nearest neighbors\n",
    "distances, indices = knn.kneighbors(movie_vector)\n",
    "\n",
    "# Show similar movies\n",
    "similar_films = df.iloc[indices[0]]\n",
    "print(f\"Ähnliche Filme zu '{movie}':\")\n",
    "print(similar_films[['Series_Title', 'IMDB_Rating', 'Genre']])\n"
   ]
  }
 ],
 "metadata": {
  "kernelspec": {
   "display_name": "Python 3",
   "language": "python",
   "name": "python3"
  },
  "language_info": {
   "codemirror_mode": {
    "name": "ipython",
    "version": 3
   },
   "file_extension": ".py",
   "mimetype": "text/x-python",
   "name": "python",
   "nbconvert_exporter": "python",
   "pygments_lexer": "ipython3",
   "version": "3.11.0"
  }
 },
 "nbformat": 4,
 "nbformat_minor": 2
}
