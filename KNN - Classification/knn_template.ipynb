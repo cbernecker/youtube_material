{
 "cells": [
  {
   "cell_type": "code",
   "execution_count": null,
   "metadata": {},
   "outputs": [],
   "source": [
    "# install libraries\n",
    "# This script installs the necessary libraries for data analysis and machine learning.\n",
    "! pip install pandas scikit-learn matplotlib"
   ]
  },
  {
   "cell_type": "markdown",
   "metadata": {},
   "source": [
    "# K-Nearest Neighbors (KNN) Classification - Fruits Dataset\n",
    "\n",
    "In this notebook, we will use K-Nearest Neighbors (KNN) to classify a dataset of fruits based on their size and weight. We will then visualize the dataset and evaluate the performance of our model.\n"
   ]
  },
  {
   "cell_type": "code",
   "execution_count": null,
   "metadata": {},
   "outputs": [],
   "source": [
    "import pandas as pd\n",
    "from sklearn.model_selection import train_test_split\n",
    "from sklearn.neighbors import KNeighborsClassifier\n",
    "from sklearn.metrics import classification_report\n",
    "from sklearn.preprocessing import StandardScaler\n",
    "import matplotlib.pyplot as plt"
   ]
  },
  {
   "cell_type": "markdown",
   "metadata": {},
   "source": [
    "## Step 1: Data Collection\n",
    "\n",
    "We will start by reading in the dataset that contains information about various fruits."
   ]
  },
  {
   "cell_type": "code",
   "execution_count": null,
   "metadata": {},
   "outputs": [],
   "source": [
    "dataset = pd.read_csv(\"../Data/fruits.csv\")\n",
    "dataset.sample(10)"
   ]
  },
  {
   "cell_type": "markdown",
   "metadata": {},
   "source": [
    "## Step 2: Data Visualization\n",
    "\n",
    "Let's visualize the dataset using a scatter plot. We'll plot size versus weight and color the points according to the fruit label."
   ]
  },
  {
   "cell_type": "code",
   "execution_count": null,
   "metadata": {},
   "outputs": [],
   "source": [
    "label_colors = {'Apple': 'red', 'Lemon': 'yellow', 'Orange': 'orange'}\n",
    "# Use 'Size' for the x-axis and 'Weight' for the y-axis, and color by 'Label'\n",
    "dataset.plot.scatter(x='Size', y='Weight', c=dataset['Label'].map(label_colors), colormap='viridis', title='Fruits by Label')\n",
    "# Show the plot\n",
    "plt.show()"
   ]
  },
  {
   "cell_type": "markdown",
   "metadata": {},
   "source": [
    "## Step 3: Train a KNN Classifier\n",
    "\n",
    "Now, we'll prepare the data by splitting it into training and test sets. Then, we'll train a KNN model."
   ]
  },
  {
   "cell_type": "code",
   "execution_count": null,
   "metadata": {},
   "outputs": [],
   "source": [
    "# 3. Train a KNN Classifier\n",
    "features = dataset[[\"Size\", \"Weight\"]] \n",
    "labels = dataset[\"Label\"] \n",
    "\n",
    "# Normalize features\n",
    "scaler = StandardScaler()\n",
    "features_scaled = scaler.fit_transform(features)\n",
    "\n",
    "# Initialize KNN with distance weighting\n",
    "X_train, X_test, y_train, y_test = train_test_split(features_scaled, labels, test_size=0.33, random_state=42)\n",
    "\n",
    "# Initialize KNN with distance weighting\n",
    "knn = KNeighborsClassifier(n_neighbors=5)\n",
    "knn.fit(X_train, y_train)"
   ]
  },
  {
   "cell_type": "markdown",
   "metadata": {},
   "source": [
    "## Step 4: Make Predictions and Evaluate\n",
    "\n",
    "After training the KNN Classifier, we will predict the labels for the test data and calculate the accuracy of the model."
   ]
  },
  {
   "cell_type": "code",
   "execution_count": null,
   "metadata": {},
   "outputs": [],
   "source": [
    "# 4. Make predictions with the KNN Classifier\n",
    "y_pred = knn.predict(X_test)\n",
    "# Evaluate with additional metrics\n",
    "print(classification_report(y_test, y_pred))\n"
   ]
  },
  {
   "cell_type": "markdown",
   "metadata": {},
   "source": [
    "The accuracy metric gives us a first insight into the model's performance. We can further improve the model by tuning hyperparameters or exploring other machine learning algorithms."
   ]
  }
 ],
 "metadata": {
  "kernelspec": {
   "display_name": "Python 3",
   "language": "python",
   "name": "python3"
  },
  "language_info": {
   "codemirror_mode": {
    "name": "ipython",
    "version": 3
   },
   "file_extension": ".py",
   "mimetype": "text/x-python",
   "name": "python",
   "nbconvert_exporter": "python",
   "pygments_lexer": "ipython3",
   "version": "3.11.0"
  }
 },
 "nbformat": 4,
 "nbformat_minor": 2
}
